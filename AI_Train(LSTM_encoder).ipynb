{
  "cells": [
    {
      "cell_type": "markdown",
      "metadata": {
        "id": "tA05bV8ndEU5"
      },
      "source": [
        "Step 1: Mount Google Drive"
      ]
    },
    {
      "cell_type": "code",
      "execution_count": null,
      "metadata": {
        "colab": {
          "base_uri": "https://localhost:8080/"
        },
        "id": "YCn3TOZXcLy2",
        "outputId": "107aff08-44e8-46ee-a0e2-ad21e1e5c4b7"
      },
      "outputs": [
        {
          "output_type": "stream",
          "name": "stdout",
          "text": [
            "Mounted at /content/drive\n"
          ]
        }
      ],
      "source": [
        "from google.colab import drive\n",
        "drive.mount('/content/drive')"
      ]
    },
    {
      "cell_type": "markdown",
      "metadata": {
        "id": "LtY-VlUpdRbf"
      },
      "source": [
        "Step 2: Load the Dataset"
      ]
    },
    {
      "cell_type": "code",
      "execution_count": null,
      "metadata": {
        "colab": {
          "base_uri": "https://localhost:8080/"
        },
        "id": "p4r8BJYddOpU",
        "outputId": "1b44229d-fc93-4201-c2ca-e8a3042e4372"
      },
      "outputs": [
        {
          "output_type": "stream",
          "name": "stderr",
          "text": [
            "/tmp/ipython-input-2176689438.py:4: DtypeWarning: Columns (2,5) have mixed types. Specify dtype option on import or set low_memory=False.\n",
            "  event_traces = pd.read_csv('/content/drive/MyDrive/Dataset-ThreatSlayers/Event_traces.csv', header=None)\n"
          ]
        },
        {
          "output_type": "stream",
          "name": "stdout",
          "text": [
            "Shape of event_traces: (575062, 6)\n",
            "Shape of labels: (575062, 2)\n"
          ]
        }
      ],
      "source": [
        "import pandas as pd\n",
        "\n",
        "# Load event sequences and labels\n",
        "event_traces = pd.read_csv('/content/drive/MyDrive/Dataset-ThreatSlayers/Event_traces.csv', header=None)\n",
        "labels = pd.read_csv('/content/drive/MyDrive/Dataset-ThreatSlayers/anomaly_label.csv', header=None)\n",
        "\n",
        "print(\"Shape of event_traces:\", event_traces.shape)\n",
        "print(\"Shape of labels:\", labels.shape)"
      ]
    },
    {
      "cell_type": "markdown",
      "metadata": {
        "id": "3QcmLz3XfZ3X"
      },
      "source": [
        "Step 3: Cleaned Code (Start from Loaded Data)"
      ]
    },
    {
      "cell_type": "code",
      "execution_count": null,
      "metadata": {
        "colab": {
          "base_uri": "https://localhost:8080/"
        },
        "id": "I5WMi5kdfgyH",
        "outputId": "5eab6e96-e7ed-4a62-ea4e-6803361a201c"
      },
      "outputs": [
        {
          "output_type": "stream",
          "name": "stdout",
          "text": [
            "First 10 label values:\n",
            "['Label', 'Normal', 'Normal', 'Anomaly', 'Normal', 'Normal', 'Normal', 'Normal', 'Normal', 'Normal']\n",
            "\n",
            "Unique label values:\n",
            "['Label' 'Normal' 'Anomaly']\n",
            "\n",
            "Mapped labels sample:\n",
            "0    0\n",
            "1    0\n",
            "2    1\n",
            "3    0\n",
            "4    0\n",
            "5    0\n",
            "6    0\n",
            "7    0\n",
            "8    0\n",
            "9    0\n",
            "Name: 1, dtype: int64\n",
            "\n",
            "Count valid numeric labels: 575061\n",
            "Count invalid labels (NaN): 0\n",
            "\n",
            "✅ Data cleaned and ready!\n",
            "X shape: (575061, 6)\n",
            "y shape: (575061,)\n"
          ]
        }
      ],
      "source": [
        "import numpy as np\n",
        "from sklearn.preprocessing import LabelEncoder\n",
        "from tensorflow.keras.preprocessing.sequence import pad_sequences\n",
        "\n",
        "# Step 3: Clean and preprocess event traces and labels\n",
        "\n",
        "# 3.1: Fill missing values and convert to strings\n",
        "event_traces = event_traces.fillna('MISSING').astype(str)\n",
        "\n",
        "# 3.2: Label encode each column individually\n",
        "event_traces_encoded = event_traces.apply(lambda col: LabelEncoder().fit_transform(col))\n",
        "\n",
        "# 3.3: Convert encoded dataframe to list of sequences and pad\n",
        "sequences = event_traces_encoded.values.tolist()\n",
        "padded_sequences = pad_sequences(sequences, padding='post')\n",
        "X_full = np.array(padded_sequences)\n",
        "\n",
        "# --- Debugging labels ---\n",
        "\n",
        "print(\"First 10 label values:\")\n",
        "print(labels.iloc[:10, 1].tolist())\n",
        "\n",
        "print(\"\\nUnique label values:\")\n",
        "print(labels.iloc[:, 1].unique())\n",
        "\n",
        "# 3.4: Clean labels - convert to string and strip spaces\n",
        "labels_str = labels.iloc[:, 1].astype(str).str.strip()\n",
        "\n",
        "# Remove header row if present\n",
        "if labels_str.iloc[0] == 'Label' or labels_str.iloc[0] not in ['Normal', 'Anomaly', '0', '1']:\n",
        "    labels_str = labels_str[1:].reset_index(drop=True)\n",
        "    X_full = X_full[1:]\n",
        "\n",
        "# 3.5: Map string labels to numeric values\n",
        "label_map = {'Normal': 0, 'Anomaly': 1, '0': 0, '1': 1}\n",
        "labels_mapped = labels_str.map(label_map)\n",
        "\n",
        "print(\"\\nMapped labels sample:\")\n",
        "print(labels_mapped.head(10))\n",
        "\n",
        "print(\"\\nCount valid numeric labels:\", labels_mapped.notna().sum())\n",
        "print(\"Count invalid labels (NaN):\", labels_mapped.isna().sum())\n",
        "\n",
        "# 3.6: Filter valid labels and align X and y\n",
        "valid_mask = labels_mapped.notna()\n",
        "X = X_full[valid_mask.values]\n",
        "y = labels_mapped[valid_mask].astype('float32').values\n",
        "\n",
        "print(\"\\n✅ Data cleaned and ready!\")\n",
        "print(\"X shape:\", X.shape)\n",
        "print(\"y shape:\", y.shape)"
      ]
    },
    {
      "cell_type": "markdown",
      "metadata": {
        "id": "kSnPdCKxeivL"
      },
      "source": [
        "Step 4: Build the LSTM autoencoder Model"
      ]
    },
    {
      "cell_type": "code",
      "execution_count": null,
      "metadata": {
        "colab": {
          "base_uri": "https://localhost:8080/",
          "height": 449
        },
        "id": "637yN9AyoozV",
        "outputId": "d56e1656-6c69-4dce-baac-6b45d268654a"
      },
      "outputs": [
        {
          "output_type": "display_data",
          "data": {
            "text/plain": [
              "\u001b[1mModel: \"functional\"\u001b[0m\n"
            ],
            "text/html": [
              "<pre style=\"white-space:pre;overflow-x:auto;line-height:normal;font-family:Menlo,'DejaVu Sans Mono',consolas,'Courier New',monospace\"><span style=\"font-weight: bold\">Model: \"functional\"</span>\n",
              "</pre>\n"
            ]
          },
          "metadata": {}
        },
        {
          "output_type": "display_data",
          "data": {
            "text/plain": [
              "┏━━━━━━━━━━━━━━━━━━━━━┳━━━━━━━━━━━━━━━━━━━┳━━━━━━━━━━━━┳━━━━━━━━━━━━━━━━━━━┓\n",
              "┃\u001b[1m \u001b[0m\u001b[1mLayer (type)       \u001b[0m\u001b[1m \u001b[0m┃\u001b[1m \u001b[0m\u001b[1mOutput Shape     \u001b[0m\u001b[1m \u001b[0m┃\u001b[1m \u001b[0m\u001b[1m   Param #\u001b[0m\u001b[1m \u001b[0m┃\u001b[1m \u001b[0m\u001b[1mConnected to     \u001b[0m\u001b[1m \u001b[0m┃\n",
              "┡━━━━━━━━━━━━━━━━━━━━━╇━━━━━━━━━━━━━━━━━━━╇━━━━━━━━━━━━╇━━━━━━━━━━━━━━━━━━━┩\n",
              "│ input_layer         │ (\u001b[38;5;45mNone\u001b[0m, \u001b[38;5;34m6\u001b[0m)         │          \u001b[38;5;34m0\u001b[0m │ -                 │\n",
              "│ (\u001b[38;5;33mInputLayer\u001b[0m)        │                   │            │                   │\n",
              "├─────────────────────┼───────────────────┼────────────┼───────────────────┤\n",
              "│ embedding           │ (\u001b[38;5;45mNone\u001b[0m, \u001b[38;5;34m6\u001b[0m, \u001b[38;5;34m64\u001b[0m)     │ \u001b[38;5;34m36,803,968\u001b[0m │ input_layer[\u001b[38;5;34m0\u001b[0m][\u001b[38;5;34m0\u001b[0m] │\n",
              "│ (\u001b[38;5;33mEmbedding\u001b[0m)         │                   │            │                   │\n",
              "├─────────────────────┼───────────────────┼────────────┼───────────────────┤\n",
              "│ not_equal           │ (\u001b[38;5;45mNone\u001b[0m, \u001b[38;5;34m6\u001b[0m)         │          \u001b[38;5;34m0\u001b[0m │ input_layer[\u001b[38;5;34m0\u001b[0m][\u001b[38;5;34m0\u001b[0m] │\n",
              "│ (\u001b[38;5;33mNotEqual\u001b[0m)          │                   │            │                   │\n",
              "├─────────────────────┼───────────────────┼────────────┼───────────────────┤\n",
              "│ lstm (\u001b[38;5;33mLSTM\u001b[0m)         │ (\u001b[38;5;45mNone\u001b[0m, \u001b[38;5;34m32\u001b[0m)        │     \u001b[38;5;34m12,416\u001b[0m │ embedding[\u001b[38;5;34m0\u001b[0m][\u001b[38;5;34m0\u001b[0m],  │\n",
              "│                     │                   │            │ not_equal[\u001b[38;5;34m0\u001b[0m][\u001b[38;5;34m0\u001b[0m]   │\n",
              "├─────────────────────┼───────────────────┼────────────┼───────────────────┤\n",
              "│ repeat_vector       │ (\u001b[38;5;45mNone\u001b[0m, \u001b[38;5;34m6\u001b[0m, \u001b[38;5;34m32\u001b[0m)     │          \u001b[38;5;34m0\u001b[0m │ lstm[\u001b[38;5;34m0\u001b[0m][\u001b[38;5;34m0\u001b[0m]        │\n",
              "│ (\u001b[38;5;33mRepeatVector\u001b[0m)      │                   │            │                   │\n",
              "├─────────────────────┼───────────────────┼────────────┼───────────────────┤\n",
              "│ lstm_1 (\u001b[38;5;33mLSTM\u001b[0m)       │ (\u001b[38;5;45mNone\u001b[0m, \u001b[38;5;34m6\u001b[0m, \u001b[38;5;34m64\u001b[0m)     │     \u001b[38;5;34m24,832\u001b[0m │ repeat_vector[\u001b[38;5;34m0\u001b[0m]… │\n",
              "├─────────────────────┼───────────────────┼────────────┼───────────────────┤\n",
              "│ time_distributed    │ (\u001b[38;5;45mNone\u001b[0m, \u001b[38;5;34m6\u001b[0m, \u001b[38;5;34m1\u001b[0m)      │         \u001b[38;5;34m65\u001b[0m │ lstm_1[\u001b[38;5;34m0\u001b[0m][\u001b[38;5;34m0\u001b[0m]      │\n",
              "│ (\u001b[38;5;33mTimeDistributed\u001b[0m)   │                   │            │                   │\n",
              "└─────────────────────┴───────────────────┴────────────┴───────────────────┘\n"
            ],
            "text/html": [
              "<pre style=\"white-space:pre;overflow-x:auto;line-height:normal;font-family:Menlo,'DejaVu Sans Mono',consolas,'Courier New',monospace\">┏━━━━━━━━━━━━━━━━━━━━━┳━━━━━━━━━━━━━━━━━━━┳━━━━━━━━━━━━┳━━━━━━━━━━━━━━━━━━━┓\n",
              "┃<span style=\"font-weight: bold\"> Layer (type)        </span>┃<span style=\"font-weight: bold\"> Output Shape      </span>┃<span style=\"font-weight: bold\">    Param # </span>┃<span style=\"font-weight: bold\"> Connected to      </span>┃\n",
              "┡━━━━━━━━━━━━━━━━━━━━━╇━━━━━━━━━━━━━━━━━━━╇━━━━━━━━━━━━╇━━━━━━━━━━━━━━━━━━━┩\n",
              "│ input_layer         │ (<span style=\"color: #00d7ff; text-decoration-color: #00d7ff\">None</span>, <span style=\"color: #00af00; text-decoration-color: #00af00\">6</span>)         │          <span style=\"color: #00af00; text-decoration-color: #00af00\">0</span> │ -                 │\n",
              "│ (<span style=\"color: #0087ff; text-decoration-color: #0087ff\">InputLayer</span>)        │                   │            │                   │\n",
              "├─────────────────────┼───────────────────┼────────────┼───────────────────┤\n",
              "│ embedding           │ (<span style=\"color: #00d7ff; text-decoration-color: #00d7ff\">None</span>, <span style=\"color: #00af00; text-decoration-color: #00af00\">6</span>, <span style=\"color: #00af00; text-decoration-color: #00af00\">64</span>)     │ <span style=\"color: #00af00; text-decoration-color: #00af00\">36,803,968</span> │ input_layer[<span style=\"color: #00af00; text-decoration-color: #00af00\">0</span>][<span style=\"color: #00af00; text-decoration-color: #00af00\">0</span>] │\n",
              "│ (<span style=\"color: #0087ff; text-decoration-color: #0087ff\">Embedding</span>)         │                   │            │                   │\n",
              "├─────────────────────┼───────────────────┼────────────┼───────────────────┤\n",
              "│ not_equal           │ (<span style=\"color: #00d7ff; text-decoration-color: #00d7ff\">None</span>, <span style=\"color: #00af00; text-decoration-color: #00af00\">6</span>)         │          <span style=\"color: #00af00; text-decoration-color: #00af00\">0</span> │ input_layer[<span style=\"color: #00af00; text-decoration-color: #00af00\">0</span>][<span style=\"color: #00af00; text-decoration-color: #00af00\">0</span>] │\n",
              "│ (<span style=\"color: #0087ff; text-decoration-color: #0087ff\">NotEqual</span>)          │                   │            │                   │\n",
              "├─────────────────────┼───────────────────┼────────────┼───────────────────┤\n",
              "│ lstm (<span style=\"color: #0087ff; text-decoration-color: #0087ff\">LSTM</span>)         │ (<span style=\"color: #00d7ff; text-decoration-color: #00d7ff\">None</span>, <span style=\"color: #00af00; text-decoration-color: #00af00\">32</span>)        │     <span style=\"color: #00af00; text-decoration-color: #00af00\">12,416</span> │ embedding[<span style=\"color: #00af00; text-decoration-color: #00af00\">0</span>][<span style=\"color: #00af00; text-decoration-color: #00af00\">0</span>],  │\n",
              "│                     │                   │            │ not_equal[<span style=\"color: #00af00; text-decoration-color: #00af00\">0</span>][<span style=\"color: #00af00; text-decoration-color: #00af00\">0</span>]   │\n",
              "├─────────────────────┼───────────────────┼────────────┼───────────────────┤\n",
              "│ repeat_vector       │ (<span style=\"color: #00d7ff; text-decoration-color: #00d7ff\">None</span>, <span style=\"color: #00af00; text-decoration-color: #00af00\">6</span>, <span style=\"color: #00af00; text-decoration-color: #00af00\">32</span>)     │          <span style=\"color: #00af00; text-decoration-color: #00af00\">0</span> │ lstm[<span style=\"color: #00af00; text-decoration-color: #00af00\">0</span>][<span style=\"color: #00af00; text-decoration-color: #00af00\">0</span>]        │\n",
              "│ (<span style=\"color: #0087ff; text-decoration-color: #0087ff\">RepeatVector</span>)      │                   │            │                   │\n",
              "├─────────────────────┼───────────────────┼────────────┼───────────────────┤\n",
              "│ lstm_1 (<span style=\"color: #0087ff; text-decoration-color: #0087ff\">LSTM</span>)       │ (<span style=\"color: #00d7ff; text-decoration-color: #00d7ff\">None</span>, <span style=\"color: #00af00; text-decoration-color: #00af00\">6</span>, <span style=\"color: #00af00; text-decoration-color: #00af00\">64</span>)     │     <span style=\"color: #00af00; text-decoration-color: #00af00\">24,832</span> │ repeat_vector[<span style=\"color: #00af00; text-decoration-color: #00af00\">0</span>]… │\n",
              "├─────────────────────┼───────────────────┼────────────┼───────────────────┤\n",
              "│ time_distributed    │ (<span style=\"color: #00d7ff; text-decoration-color: #00d7ff\">None</span>, <span style=\"color: #00af00; text-decoration-color: #00af00\">6</span>, <span style=\"color: #00af00; text-decoration-color: #00af00\">1</span>)      │         <span style=\"color: #00af00; text-decoration-color: #00af00\">65</span> │ lstm_1[<span style=\"color: #00af00; text-decoration-color: #00af00\">0</span>][<span style=\"color: #00af00; text-decoration-color: #00af00\">0</span>]      │\n",
              "│ (<span style=\"color: #0087ff; text-decoration-color: #0087ff\">TimeDistributed</span>)   │                   │            │                   │\n",
              "└─────────────────────┴───────────────────┴────────────┴───────────────────┘\n",
              "</pre>\n"
            ]
          },
          "metadata": {}
        },
        {
          "output_type": "display_data",
          "data": {
            "text/plain": [
              "\u001b[1m Total params: \u001b[0m\u001b[38;5;34m36,841,281\u001b[0m (140.54 MB)\n"
            ],
            "text/html": [
              "<pre style=\"white-space:pre;overflow-x:auto;line-height:normal;font-family:Menlo,'DejaVu Sans Mono',consolas,'Courier New',monospace\"><span style=\"font-weight: bold\"> Total params: </span><span style=\"color: #00af00; text-decoration-color: #00af00\">36,841,281</span> (140.54 MB)\n",
              "</pre>\n"
            ]
          },
          "metadata": {}
        },
        {
          "output_type": "display_data",
          "data": {
            "text/plain": [
              "\u001b[1m Trainable params: \u001b[0m\u001b[38;5;34m36,841,281\u001b[0m (140.54 MB)\n"
            ],
            "text/html": [
              "<pre style=\"white-space:pre;overflow-x:auto;line-height:normal;font-family:Menlo,'DejaVu Sans Mono',consolas,'Courier New',monospace\"><span style=\"font-weight: bold\"> Trainable params: </span><span style=\"color: #00af00; text-decoration-color: #00af00\">36,841,281</span> (140.54 MB)\n",
              "</pre>\n"
            ]
          },
          "metadata": {}
        },
        {
          "output_type": "display_data",
          "data": {
            "text/plain": [
              "\u001b[1m Non-trainable params: \u001b[0m\u001b[38;5;34m0\u001b[0m (0.00 B)\n"
            ],
            "text/html": [
              "<pre style=\"white-space:pre;overflow-x:auto;line-height:normal;font-family:Menlo,'DejaVu Sans Mono',consolas,'Courier New',monospace\"><span style=\"font-weight: bold\"> Non-trainable params: </span><span style=\"color: #00af00; text-decoration-color: #00af00\">0</span> (0.00 B)\n",
              "</pre>\n"
            ]
          },
          "metadata": {}
        }
      ],
      "source": [
        "from tensorflow.keras.models import Model\n",
        "from tensorflow.keras.layers import Input, LSTM, RepeatVector, TimeDistributed, Dense, Embedding\n",
        "\n",
        "# Define model parameters\n",
        "timesteps = X.shape[1]            # sequence length\n",
        "input_dim = int(X.max()) + 1      # vocabulary size\n",
        "\n",
        "inputs = Input(shape=(timesteps,))\n",
        "x = Embedding(input_dim=input_dim, output_dim=64, mask_zero=True)(inputs)\n",
        "\n",
        "# Change here: disable cuDNN by use_cudnn=False\n",
        "encoded = LSTM(32, use_cudnn=False)(x)\n",
        "decoded = RepeatVector(timesteps)(encoded)\n",
        "decoded = LSTM(64, return_sequences=True, use_cudnn=False)(decoded)\n",
        "decoded = TimeDistributed(Dense(1))(decoded)\n",
        "\n",
        "autoencoder = Model(inputs, decoded)\n",
        "autoencoder.compile(optimizer='adam', loss='mse')\n",
        "autoencoder.summary()"
      ]
    },
    {
      "cell_type": "markdown",
      "metadata": {
        "id": "XQFDfmyJzp9_"
      },
      "source": [
        "Step 5: Train the LSTM Autoencoder"
      ]
    },
    {
      "cell_type": "code",
      "execution_count": null,
      "metadata": {
        "colab": {
          "base_uri": "https://localhost:8080/",
          "height": 766
        },
        "id": "CBaHLL_2ztJP",
        "outputId": "c90885d0-dfd6-4d5e-d5a8-af6a513c77eb",
        "collapsed": true
      },
      "outputs": [
        {
          "output_type": "stream",
          "name": "stdout",
          "text": [
            "Epoch 1/20\n",
            "\u001b[1m7189/7189\u001b[0m \u001b[32m━━━━━━━━━━━━━━━━━━━━\u001b[0m\u001b[37m\u001b[0m \u001b[1m87s\u001b[0m 11ms/step - loss: 31615918080.0000 - val_loss: 32023965696.0000\n",
            "Epoch 2/20\n",
            "\u001b[1m7189/7189\u001b[0m \u001b[32m━━━━━━━━━━━━━━━━━━━━\u001b[0m\u001b[37m\u001b[0m \u001b[1m132s\u001b[0m 10ms/step - loss: 31390373888.0000 - val_loss: 31946397696.0000\n",
            "Epoch 3/20\n",
            "\u001b[1m7189/7189\u001b[0m \u001b[32m━━━━━━━━━━━━━━━━━━━━\u001b[0m\u001b[37m\u001b[0m \u001b[1m81s\u001b[0m 10ms/step - loss: 31439462400.0000 - val_loss: 31869296640.0000\n",
            "Epoch 4/20\n",
            "\u001b[1m7189/7189\u001b[0m \u001b[32m━━━━━━━━━━━━━━━━━━━━\u001b[0m\u001b[37m\u001b[0m \u001b[1m82s\u001b[0m 10ms/step - loss: 31318484992.0000 - val_loss: 31792463872.0000\n",
            "Epoch 5/20\n",
            "\u001b[1m7189/7189\u001b[0m \u001b[32m━━━━━━━━━━━━━━━━━━━━\u001b[0m\u001b[37m\u001b[0m \u001b[1m73s\u001b[0m 10ms/step - loss: 31316051968.0000 - val_loss: 31716032512.0000\n",
            "Epoch 6/20\n",
            "\u001b[1m7189/7189\u001b[0m \u001b[32m━━━━━━━━━━━━━━━━━━━━\u001b[0m\u001b[37m\u001b[0m \u001b[1m72s\u001b[0m 10ms/step - loss: 31211442176.0000 - val_loss: 31639947264.0000\n",
            "Epoch 7/20\n",
            "\u001b[1m7189/7189\u001b[0m \u001b[32m━━━━━━━━━━━━━━━━━━━━\u001b[0m\u001b[37m\u001b[0m \u001b[1m83s\u001b[0m 10ms/step - loss: 31128684544.0000 - val_loss: 31564335104.0000\n",
            "Epoch 8/20\n",
            "\u001b[1m7189/7189\u001b[0m \u001b[32m━━━━━━━━━━━━━━━━━━━━\u001b[0m\u001b[37m\u001b[0m \u001b[1m81s\u001b[0m 10ms/step - loss: 31042062336.0000 - val_loss: 31488970752.0000\n",
            "Epoch 9/20\n",
            "\u001b[1m7189/7189\u001b[0m \u001b[32m━━━━━━━━━━━━━━━━━━━━\u001b[0m\u001b[37m\u001b[0m \u001b[1m72s\u001b[0m 10ms/step - loss: 31004282880.0000 - val_loss: 31413946368.0000\n",
            "Epoch 10/20\n",
            "\u001b[1m7189/7189\u001b[0m \u001b[32m━━━━━━━━━━━━━━━━━━━━\u001b[0m\u001b[37m\u001b[0m \u001b[1m73s\u001b[0m 10ms/step - loss: 30900492288.0000 - val_loss: 31339397120.0000\n",
            "Epoch 11/20\n",
            "\u001b[1m7189/7189\u001b[0m \u001b[32m━━━━━━━━━━━━━━━━━━━━\u001b[0m\u001b[37m\u001b[0m \u001b[1m81s\u001b[0m 10ms/step - loss: 30790387712.0000 - val_loss: 31265085440.0000\n",
            "Epoch 12/20\n",
            "\u001b[1m7189/7189\u001b[0m \u001b[32m━━━━━━━━━━━━━━━━━━━━\u001b[0m\u001b[37m\u001b[0m \u001b[1m71s\u001b[0m 10ms/step - loss: 30777280512.0000 - val_loss: 31191246848.0000\n",
            "Epoch 13/20\n",
            "\u001b[1m7189/7189\u001b[0m \u001b[32m━━━━━━━━━━━━━━━━━━━━\u001b[0m\u001b[37m\u001b[0m \u001b[1m72s\u001b[0m 10ms/step - loss: 30737573888.0000 - val_loss: 31117713408.0000\n",
            "Epoch 14/20\n",
            "\u001b[1m7189/7189\u001b[0m \u001b[32m━━━━━━━━━━━━━━━━━━━━\u001b[0m\u001b[37m\u001b[0m \u001b[1m73s\u001b[0m 10ms/step - loss: 30660835328.0000 - val_loss: 31044567040.0000\n",
            "Epoch 15/20\n",
            "\u001b[1m7189/7189\u001b[0m \u001b[32m━━━━━━━━━━━━━━━━━━━━\u001b[0m\u001b[37m\u001b[0m \u001b[1m81s\u001b[0m 10ms/step - loss: 30580457472.0000 - val_loss: 30971697152.0000\n",
            "Epoch 16/20\n",
            "\u001b[1m7189/7189\u001b[0m \u001b[32m━━━━━━━━━━━━━━━━━━━━\u001b[0m\u001b[37m\u001b[0m \u001b[1m81s\u001b[0m 10ms/step - loss: 30453608448.0000 - val_loss: 30899167232.0000\n",
            "Epoch 17/20\n",
            "\u001b[1m7189/7189\u001b[0m \u001b[32m━━━━━━━━━━━━━━━━━━━━\u001b[0m\u001b[37m\u001b[0m \u001b[1m82s\u001b[0m 10ms/step - loss: 30410295296.0000 - val_loss: 30827030528.0000\n",
            "Epoch 18/20\n",
            "\u001b[1m7189/7189\u001b[0m \u001b[32m━━━━━━━━━━━━━━━━━━━━\u001b[0m\u001b[37m\u001b[0m \u001b[1m74s\u001b[0m 10ms/step - loss: 30319073280.0000 - val_loss: 30755213312.0000\n",
            "Epoch 19/20\n",
            "\u001b[1m7189/7189\u001b[0m \u001b[32m━━━━━━━━━━━━━━━━━━━━\u001b[0m\u001b[37m\u001b[0m \u001b[1m80s\u001b[0m 10ms/step - loss: 30233229312.0000 - val_loss: 30683664384.0000\n",
            "Epoch 20/20\n",
            "\u001b[1m7189/7189\u001b[0m \u001b[32m━━━━━━━━━━━━━━━━━━━━\u001b[0m\u001b[37m\u001b[0m \u001b[1m83s\u001b[0m 10ms/step - loss: 30212220928.0000 - val_loss: 30612447232.0000\n"
          ]
        },
        {
          "output_type": "stream",
          "name": "stderr",
          "text": [
            "WARNING:absl:You are saving your model as an HDF5 file via `model.save()` or `keras.saving.save_model(model)`. This file format is considered legacy. We recommend using instead the native Keras format, e.g. `model.save('my_model.keras')` or `keras.saving.save_model(model, 'my_model.keras')`. \n"
          ]
        },
        {
          "output_type": "stream",
          "name": "stdout",
          "text": [
            "✅ Model saved as lstm_autoencoder.h5\n"
          ]
        },
        {
          "output_type": "display_data",
          "data": {
            "text/plain": [
              "<IPython.core.display.Javascript object>"
            ],
            "application/javascript": [
              "\n",
              "    async function download(id, filename, size) {\n",
              "      if (!google.colab.kernel.accessAllowed) {\n",
              "        return;\n",
              "      }\n",
              "      const div = document.createElement('div');\n",
              "      const label = document.createElement('label');\n",
              "      label.textContent = `Downloading \"${filename}\": `;\n",
              "      div.appendChild(label);\n",
              "      const progress = document.createElement('progress');\n",
              "      progress.max = size;\n",
              "      div.appendChild(progress);\n",
              "      document.body.appendChild(div);\n",
              "\n",
              "      const buffers = [];\n",
              "      let downloaded = 0;\n",
              "\n",
              "      const channel = await google.colab.kernel.comms.open(id);\n",
              "      // Send a message to notify the kernel that we're ready.\n",
              "      channel.send({})\n",
              "\n",
              "      for await (const message of channel.messages) {\n",
              "        // Send a message to notify the kernel that we're ready.\n",
              "        channel.send({})\n",
              "        if (message.buffers) {\n",
              "          for (const buffer of message.buffers) {\n",
              "            buffers.push(buffer);\n",
              "            downloaded += buffer.byteLength;\n",
              "            progress.value = downloaded;\n",
              "          }\n",
              "        }\n",
              "      }\n",
              "      const blob = new Blob(buffers, {type: 'application/binary'});\n",
              "      const a = document.createElement('a');\n",
              "      a.href = window.URL.createObjectURL(blob);\n",
              "      a.download = filename;\n",
              "      div.appendChild(a);\n",
              "      a.click();\n",
              "      div.remove();\n",
              "    }\n",
              "  "
            ]
          },
          "metadata": {}
        },
        {
          "output_type": "display_data",
          "data": {
            "text/plain": [
              "<IPython.core.display.Javascript object>"
            ],
            "application/javascript": [
              "download(\"download_1711f9fd-5ccd-4d35-a65d-c6baa5626fca\", \"lstm_autoencoder.h5\", 442135032)"
            ]
          },
          "metadata": {}
        }
      ],
      "source": [
        "# Train the model\n",
        "history = autoencoder.fit(\n",
        "    X,               # Input sequences\n",
        "    X[..., None],    # Targets are the input sequences themselves, reshaped for TimeDistributed\n",
        "    epochs=20,\n",
        "    batch_size=64,\n",
        "    validation_split=0.2\n",
        ")\n",
        "\n",
        "# ✅ Save the trained model to a file\n",
        "autoencoder.save(\"lstm_autoencoder.h5\")\n",
        "print(\"✅ Model saved as lstm_autoencoder.h5\")\n",
        "\n",
        "# ✅ Download the saved model to your local computer\n",
        "from google.colab import files\n",
        "files.download(\"lstm_autoencoder.h5\")\n"
      ]
    },
    {
      "cell_type": "markdown",
      "source": [
        "Step 6 :Plot the training loss curve"
      ],
      "metadata": {
        "id": "z8AxbIYmV7Rr"
      }
    },
    {
      "cell_type": "code",
      "source": [
        "import matplotlib.pyplot as plt\n",
        "\n",
        "plt.plot(history.history['loss'], label='Training Loss')\n",
        "plt.plot(history.history['val_loss'], label='Validation Loss')\n",
        "plt.title('Loss over Epochs')\n",
        "plt.xlabel('Epoch')\n",
        "plt.ylabel('Loss')\n",
        "plt.legend()\n",
        "plt.grid(True)\n",
        "plt.show()"
      ],
      "metadata": {
        "colab": {
          "base_uri": "https://localhost:8080/",
          "height": 472
        },
        "id": "00LrQ8vNWHUZ",
        "outputId": "d2b657d5-f3ce-4495-b76e-37755b7c437f",
        "collapsed": true
      },
      "execution_count": null,
      "outputs": [
        {
          "output_type": "display_data",
          "data": {
            "text/plain": [
              "<Figure size 640x480 with 1 Axes>"
            ],
            "image/png": "[encoded data removed]"
          },
          "metadata": {}
        }
      ]
    },
    {
      "cell_type": "markdown",
      "source": [
        "Step 7: Use the autoencoder to reconstruct sequences"
      ],
      "metadata": {
        "id": "S0Izz1rAWOju"
      }
    },
    {
      "cell_type": "code",
      "source": [
        "X_pred = autoencoder.predict(X)"
      ],
      "metadata": {
        "colab": {
          "base_uri": "https://localhost:8080/"
        },
        "id": "ieqiTUjxWaZT",
        "outputId": "f58088a5-36b6-41a8-b019-f550f1a9b486",
        "collapsed": true
      },
      "execution_count": null,
      "outputs": [
        {
          "output_type": "stream",
          "name": "stdout",
          "text": [
            "\u001b[1m17971/17971\u001b[0m \u001b[32m━━━━━━━━━━━━━━━━━━━━\u001b[0m\u001b[37m\u001b[0m \u001b[1m30s\u001b[0m 2ms/step\n"
          ]
        }
      ]
    },
    {
      "cell_type": "markdown",
      "source": [
        "Step 8: Calculate reconstruction error"
      ],
      "metadata": {
        "id": "BlV3X-NuWeRE"
      }
    },
    {
      "cell_type": "code",
      "source": [
        "X_flat = X.reshape(X.shape[0], -1)\n",
        "X_pred_flat = X_pred.reshape(X_pred.shape[0], -1)\n",
        "\n",
        "reconstruction_errors = np.mean(np.square(X_flat - X_pred_flat), axis=1)\n",
        "\n",
        "# Optional: visualize distribution of reconstruction errors\n",
        "import matplotlib.pyplot as plt\n",
        "\n",
        "plt.hist(reconstruction_errors, bins=50)\n",
        "plt.title(\"Distribution of Reconstruction Errors\")\n",
        "plt.xlabel(\"Reconstruction Error\")\n",
        "plt.ylabel(\"Frequency\")\n",
        "plt.grid(True)\n",
        "plt.show()"
      ],
      "metadata": {
        "colab": {
          "base_uri": "https://localhost:8080/",
          "height": 472
        },
        "id": "JZ0vgHR8WjCJ",
        "outputId": "bfd26b64-35f1-41c2-bc13-56dc8e0b917a",
        "collapsed": true
      },
      "execution_count": null,
      "outputs": [
        {
          "output_type": "display_data",
          "data": {
            "text/plain": [
              "<Figure size 640x480 with 1 Axes>"
            ],
            "image/png": "[encoded data removed]"
          },
          "metadata": {}
        }
      ]
    },
    {
      "cell_type": "markdown",
      "source": [
        "Step 9 : Set a threshold for anomaly detection"
      ],
      "metadata": {
        "id": "tSJvc7K-WnWh"
      }
    },
    {
      "cell_type": "code",
      "source": [
        "threshold = np.percentile(reconstruction_errors, 95)  # top 5% most unusual\n",
        "print(\"Anomaly threshold:\", threshold)"
      ],
      "metadata": {
        "colab": {
          "base_uri": "https://localhost:8080/"
        },
        "id": "s7uLmCcRWtnY",
        "outputId": "f4ec3155-bf96-4bb3-c299-99d29cafd6e1"
      },
      "execution_count": null,
      "outputs": [
        {
          "output_type": "stream",
          "name": "stdout",
          "text": [
            "Anomaly threshold: 65942685435.15461\n"
          ]
        }
      ]
    },
    {
      "cell_type": "markdown",
      "source": [
        "Step 10 : Detect anomalies"
      ],
      "metadata": {
        "id": "pOTQdTG5W0HE"
      }
    },
    {
      "cell_type": "code",
      "source": [
        "anomalies = reconstruction_errors > threshold\n",
        "print(\"Detected anomalies:\", np.sum(anomalies))"
      ],
      "metadata": {
        "colab": {
          "base_uri": "https://localhost:8080/"
        },
        "id": "rryBiMpLW5x9",
        "outputId": "2eedddac-b659-4e11-b4c5-cd36fc80abef"
      },
      "execution_count": null,
      "outputs": [
        {
          "output_type": "stream",
          "name": "stdout",
          "text": [
            "Detected anomalies: 28753\n"
          ]
        }
      ]
    },
    {
      "cell_type": "markdown",
      "source": [
        "Step 11: Evaluate Model with Classification Metrics"
      ],
      "metadata": {
        "id": "N0s3mphYQ32w"
      }
    },
    {
      "cell_type": "code",
      "source": [
        "from sklearn.metrics import classification_report, confusion_matrix, accuracy_score\n",
        "\n",
        "# Convert anomalies (detected from reconstruction error) to binary predictions\n",
        "y_pred = anomalies.astype(int)\n",
        "\n",
        "# Ensure ground truth labels (y) are integers\n",
        "y_true = y.astype(int)\n",
        "\n",
        "# Print basic classification metrics\n",
        "print(\"Classification Report:\")\n",
        "print(classification_report(y_true, y_pred, target_names=[\"Normal\", \"Anomaly\"]))\n",
        "\n",
        "# Print accuracy\n",
        "accuracy = accuracy_score(y_true, y_pred)\n",
        "print(f\"\\nAccuracy: {accuracy * 100:.2f}%\")\n",
        "\n",
        "# Show confusion matrix\n",
        "cm = confusion_matrix(y_true, y_pred)\n",
        "\n",
        "import seaborn as sns\n",
        "import matplotlib.pyplot as plt\n",
        "\n",
        "plt.figure(figsize=(6, 4))\n",
        "sns.heatmap(cm, annot=True, fmt='d', cmap='Blues', xticklabels=[\"Normal\", \"Anomaly\"], yticklabels=[\"Normal\", \"Anomaly\"])\n",
        "plt.xlabel(\"Predicted Label\")\n",
        "plt.ylabel(\"True Label\")\n",
        "plt.title(\"Confusion Matrix\")\n",
        "plt.show()\n"
      ],
      "metadata": {
        "colab": {
          "base_uri": "https://localhost:8080/",
          "height": 618
        },
        "collapsed": true,
        "id": "QgA0v0QnQ-ic",
        "outputId": "a2a39256-38b6-4698-dac2-9c95fc19a462"
      },
      "execution_count": null,
      "outputs": [
        {
          "output_type": "stream",
          "name": "stdout",
          "text": [
            "Classification Report:\n",
            "              precision    recall  f1-score   support\n",
            "\n",
            "      Normal       0.97      0.95      0.96    558223\n",
            "     Anomaly       0.08      0.13      0.10     16838\n",
            "\n",
            "    accuracy                           0.93    575061\n",
            "   macro avg       0.52      0.54      0.53    575061\n",
            "weighted avg       0.95      0.93      0.94    575061\n",
            "\n",
            "\n",
            "Accuracy: 92.83%\n"
          ]
        },
        {
          "output_type": "display_data",
          "data": {
            "text/plain": [
              "<Figure size 600x400 with 2 Axes>"
            ],
            "image/png": "[encoded data removed]"
          },
          "metadata": {}
        }
      ]
    },
    {
      "cell_type": "markdown",
      "source": [
        "Step 12 : Connect to API (Back end_Render)\n",
        "\n",
        "\n"
      ],
      "metadata": {
        "id": "QppWUpC1Sv8w"
      }
    },
    {
      "cell_type": "code",
      "source": [],
      "metadata": {
        "id": "3cx0sC3oTBxb"
      },
      "execution_count": null,
      "outputs": []
    },
    {
      "cell_type": "markdown",
      "source": [
        "Save model"
      ],
      "metadata": {
        "id": "e8r-oyXkVDSG"
      }
    }
  ],
  "metadata": {
    "colab": {
      "provenance": [],
      "gpuType": "T4"
    },
    "kernelspec": {
      "display_name": "Python 3",
      "name": "python3"
    },
    "language_info": {
      "name": "python"
    },
    "accelerator": "GPU"
  },
  "nbformat": 4,
  "nbformat_minor": 0
}